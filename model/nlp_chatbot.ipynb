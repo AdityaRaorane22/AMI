{
 "cells": [
  {
   "cell_type": "code",
   "execution_count": 19,
   "id": "0363316c",
   "metadata": {},
   "outputs": [
    {
     "data": {
      "text/html": [
       "<div>\n",
       "<style scoped>\n",
       "    .dataframe tbody tr th:only-of-type {\n",
       "        vertical-align: middle;\n",
       "    }\n",
       "\n",
       "    .dataframe tbody tr th {\n",
       "        vertical-align: top;\n",
       "    }\n",
       "\n",
       "    .dataframe thead th {\n",
       "        text-align: right;\n",
       "    }\n",
       "</style>\n",
       "<table border=\"1\" class=\"dataframe\">\n",
       "  <thead>\n",
       "    <tr style=\"text-align: right;\">\n",
       "      <th></th>\n",
       "      <th>Emp_name</th>\n",
       "      <th>Dept_ID</th>\n",
       "      <th>Dept_Name</th>\n",
       "      <th>Access_ID</th>\n",
       "      <th>Access_Name</th>\n",
       "    </tr>\n",
       "  </thead>\n",
       "  <tbody>\n",
       "    <tr>\n",
       "      <th>0</th>\n",
       "      <td>Ajay Chhajlani</td>\n",
       "      <td>1</td>\n",
       "      <td>Accounts and Finance</td>\n",
       "      <td>[1, 2, 3, 4, 9, 16]</td>\n",
       "      <td>[Teams, Outlook_Internal, Outlook_External, Ou...</td>\n",
       "    </tr>\n",
       "    <tr>\n",
       "      <th>1</th>\n",
       "      <td>Amar Gupta</td>\n",
       "      <td>1</td>\n",
       "      <td>Accounts and Finance</td>\n",
       "      <td>[1, 2, 3, 4, 9, 16]</td>\n",
       "      <td>[Teams, Outlook_Internal, Outlook_External, Ou...</td>\n",
       "    </tr>\n",
       "    <tr>\n",
       "      <th>2</th>\n",
       "      <td>Amit Bansode</td>\n",
       "      <td>1</td>\n",
       "      <td>Accounts and Finance</td>\n",
       "      <td>[1, 2, 3, 4, 9, 16]</td>\n",
       "      <td>[Teams, Outlook_Internal, Outlook_External, Ou...</td>\n",
       "    </tr>\n",
       "    <tr>\n",
       "      <th>3</th>\n",
       "      <td>Aniket Khode</td>\n",
       "      <td>1</td>\n",
       "      <td>Accounts and Finance</td>\n",
       "      <td>[1, 2, 3, 4, 9, 16]</td>\n",
       "      <td>[Teams, Outlook_Internal, Outlook_External, Ou...</td>\n",
       "    </tr>\n",
       "    <tr>\n",
       "      <th>4</th>\n",
       "      <td>Kajal Prajapati</td>\n",
       "      <td>1</td>\n",
       "      <td>Accounts and Finance</td>\n",
       "      <td>[1, 2, 3, 4, 9, 16]</td>\n",
       "      <td>[Teams, Outlook_Internal, Outlook_External, Ou...</td>\n",
       "    </tr>\n",
       "  </tbody>\n",
       "</table>\n",
       "</div>"
      ],
      "text/plain": [
       "          Emp_name  Dept_ID             Dept_Name            Access_ID  \\\n",
       "0   Ajay Chhajlani        1  Accounts and Finance  [1, 2, 3, 4, 9, 16]   \n",
       "1       Amar Gupta        1  Accounts and Finance  [1, 2, 3, 4, 9, 16]   \n",
       "2     Amit Bansode        1  Accounts and Finance  [1, 2, 3, 4, 9, 16]   \n",
       "3     Aniket Khode        1  Accounts and Finance  [1, 2, 3, 4, 9, 16]   \n",
       "4  Kajal Prajapati        1  Accounts and Finance  [1, 2, 3, 4, 9, 16]   \n",
       "\n",
       "                                         Access_Name  \n",
       "0  [Teams, Outlook_Internal, Outlook_External, Ou...  \n",
       "1  [Teams, Outlook_Internal, Outlook_External, Ou...  \n",
       "2  [Teams, Outlook_Internal, Outlook_External, Ou...  \n",
       "3  [Teams, Outlook_Internal, Outlook_External, Ou...  \n",
       "4  [Teams, Outlook_Internal, Outlook_External, Ou...  "
      ]
     },
     "execution_count": 19,
     "metadata": {},
     "output_type": "execute_result"
    }
   ],
   "source": [
    "import pandas as pd\n",
    "import ast  # To convert string lists to actual lists\n",
    "\n",
    "# Load data\n",
    "access_df = pd.read_csv(\"Accessibility.csv\")\n",
    "dept_df = pd.read_csv(\"Department.csv\")\n",
    "emp_df = pd.read_csv(\"Employees_table.csv\")\n",
    "\n",
    "# Convert Access_ID column from string to list (if it's stored as a string)\n",
    "emp_df[\"Access_ID\"] = emp_df[\"Access_ID\"].apply(ast.literal_eval)\n",
    "\n",
    "# Merge Employees with Department\n",
    "merged_df = emp_df.merge(dept_df, on=\"Dept_ID\", how=\"left\")\n",
    "\n",
    "# Create a dictionary to map Access_ID to Access name\n",
    "access_map = dict(zip(access_df[\"Access_ID\"], access_df[\"Access\"]))\n",
    "\n",
    "# Create a new column with Access Names list using the mapping\n",
    "merged_df[\"Access_Name\"] = merged_df[\"Access_ID\"].apply(lambda id_list: [access_map.get(i) for i in id_list])\n",
    "\n",
    "# Final dataframe with all relevant information\n",
    "final_df = merged_df[[\"Emp_name\", \"Dept_ID\", \"Dept_Name\", \"Access_ID\", \"Access_Name\"]]\n",
    "\n",
    "# Display the first few rows\n",
    "final_df.head()\n"
   ]
  },
  {
   "cell_type": "code",
   "execution_count": 20,
   "id": "05e0fc83",
   "metadata": {},
   "outputs": [
    {
     "name": "stderr",
     "output_type": "stream",
     "text": [
      "C:\\Users\\adity\\AppData\\Local\\Temp\\ipykernel_25660\\3291300696.py:11: SettingWithCopyWarning: \n",
      "A value is trying to be set on a copy of a slice from a DataFrame.\n",
      "Try using .loc[row_indexer,col_indexer] = value instead\n",
      "\n",
      "See the caveats in the documentation: https://pandas.pydata.org/pandas-docs/stable/user_guide/indexing.html#returning-a-view-versus-a-copy\n",
      "  final_df[\"qa_text\"] = final_df.apply(row_to_text, axis=1)\n"
     ]
    }
   ],
   "source": [
    "from sentence_transformers import SentenceTransformer\n",
    "import numpy as np\n",
    "\n",
    "# Convert each row to a natural language sentence\n",
    "def row_to_text(row):\n",
    "    access_list = \", \".join(row[\"Access_Name\"])\n",
    "    return (f\"{row['Emp_name']} works in the {row['Dept_Name']} department. \"\n",
    "            f\"They have access to {access_list}.\")\n",
    "\n",
    "# Apply to final_df\n",
    "final_df[\"qa_text\"] = final_df.apply(row_to_text, axis=1)\n"
   ]
  },
  {
   "cell_type": "code",
   "execution_count": 21,
   "id": "9a7dd1f2",
   "metadata": {},
   "outputs": [
    {
     "name": "stderr",
     "output_type": "stream",
     "text": [
      "c:\\Users\\adity\\AppData\\Local\\Programs\\Python\\Python312\\Lib\\site-packages\\huggingface_hub\\file_download.py:797: FutureWarning: `resume_download` is deprecated and will be removed in version 1.0.0. Downloads always resume when possible. If you want to force a new download, use `force_download=True`.\n",
      "  warnings.warn(\n",
      "C:\\Users\\adity\\AppData\\Local\\Temp\\ipykernel_25660\\2540488078.py:5: SettingWithCopyWarning: \n",
      "A value is trying to be set on a copy of a slice from a DataFrame.\n",
      "Try using .loc[row_indexer,col_indexer] = value instead\n",
      "\n",
      "See the caveats in the documentation: https://pandas.pydata.org/pandas-docs/stable/user_guide/indexing.html#returning-a-view-versus-a-copy\n",
      "  final_df[\"embedding\"] = final_df[\"qa_text\"].apply(lambda x: model.encode(x))\n"
     ]
    }
   ],
   "source": [
    "# Load embedding model\n",
    "model = SentenceTransformer(\"all-MiniLM-L6-v2\")\n",
    "\n",
    "# Create embeddings\n",
    "final_df[\"embedding\"] = final_df[\"qa_text\"].apply(lambda x: model.encode(x))\n"
   ]
  },
  {
   "cell_type": "code",
   "execution_count": 22,
   "id": "329b6f1c",
   "metadata": {},
   "outputs": [],
   "source": [
    "def answer_query(query, df, top_k=1):\n",
    "    # Encode query\n",
    "    query_vec = model.encode(query)\n",
    "\n",
    "    # Compute cosine similarities\n",
    "    similarities = df[\"embedding\"].apply(lambda x: np.dot(x, query_vec) / (np.linalg.norm(x) * np.linalg.norm(query_vec)))\n",
    "\n",
    "    # Get top_k most similar entries\n",
    "    top_indices = similarities.nlargest(top_k).index\n",
    "\n",
    "    return df.loc[top_indices][[\"qa_text\", \"Emp_name\", \"Dept_Name\", \"Access_Name\"]]\n"
   ]
  },
  {
   "cell_type": "code",
   "execution_count": 24,
   "id": "3cd4d621",
   "metadata": {},
   "outputs": [
    {
     "name": "stdout",
     "output_type": "stream",
     "text": [
      "                                             qa_text    Emp_name  \\\n",
      "1  Amar Gupta works in the Accounts and Finance d...  Amar Gupta   \n",
      "\n",
      "              Dept_Name                                        Access_Name  \n",
      "1  Accounts and Finance  [Teams, Outlook_Internal, Outlook_External, Ou...  \n",
      "                                             qa_text         Emp_name  \\\n",
      "4  Kajal Prajapati works in the Accounts and Fina...  Kajal Prajapati   \n",
      "\n",
      "              Dept_Name                                        Access_Name  \n",
      "4  Accounts and Finance  [Teams, Outlook_Internal, Outlook_External, Ou...  \n",
      "                                             qa_text    Emp_name  \\\n",
      "1  Amar Gupta works in the Accounts and Finance d...  Amar Gupta   \n",
      "\n",
      "              Dept_Name                                        Access_Name  \n",
      "1  Accounts and Finance  [Teams, Outlook_Internal, Outlook_External, Ou...  \n"
     ]
    }
   ],
   "source": [
    "# Example 1\n",
    "print(answer_query(\"Which department does Amar Gupta belong to?\", final_df))\n",
    "\n",
    "# Example 2\n",
    "print(answer_query(\"What access does Kajal have?\", final_df))\n",
    "\n",
    "# Example 3\n",
    "print(answer_query(\"List employees in the Accounts and Finance department.\", final_df))\n"
   ]
  },
  {
   "cell_type": "code",
   "execution_count": null,
   "id": "4e9fe52d",
   "metadata": {},
   "outputs": [],
   "source": []
  },
  {
   "cell_type": "code",
   "execution_count": null,
   "id": "502182ec",
   "metadata": {},
   "outputs": [],
   "source": []
  },
  {
   "cell_type": "code",
   "execution_count": null,
   "id": "8ff307a7",
   "metadata": {},
   "outputs": [],
   "source": []
  },
  {
   "cell_type": "code",
   "execution_count": null,
   "id": "e2b596e7",
   "metadata": {},
   "outputs": [],
   "source": []
  },
  {
   "cell_type": "code",
   "execution_count": 13,
   "id": "e387a67b",
   "metadata": {},
   "outputs": [],
   "source": [
    "qa_data = []\n",
    "\n",
    "for _, row in final_df.iterrows():\n",
    "    emp = row['Emp_name']\n",
    "    dept_id = row['Dept_ID']\n",
    "    dept_name = row['Dept_Name']\n",
    "    access_ids = \", \".join(map(str, row['Access_ID']))\n",
    "    access_names = \", \".join(row['Access_Name'])\n",
    "\n",
    "    qa_data.extend([\n",
    "        {\"question\": f\"What department does {emp} belong to?\", \"answer\": dept_name},\n",
    "        {\"question\": f\"What is the department ID of {emp}?\", \"answer\": str(dept_id)},\n",
    "        {\"question\": f\"What accesses does {emp} have?\", \"answer\": access_names},\n",
    "        {\"question\": f\"What are the access IDs assigned to {emp}?\", \"answer\": access_ids},\n",
    "        {\"question\": f\"List the access names for {emp}\", \"answer\": access_names},\n",
    "        {\"question\": f\"List the access IDs for {emp}\", \"answer\": access_ids},\n",
    "    ])\n",
    "\n",
    "# Save as CSV\n",
    "qa_df = pd.DataFrame(qa_data)\n",
    "qa_df.to_csv(\"qa_dataset.csv\", index=False)\n"
   ]
  },
  {
   "cell_type": "code",
   "execution_count": 17,
   "id": "2519d033",
   "metadata": {},
   "outputs": [
    {
     "name": "stdout",
     "output_type": "stream",
     "text": [
      "Accounts and Finance\n"
     ]
    }
   ],
   "source": [
    "from transformers import pipeline\n",
    "\n",
    "qa_model = pipeline(\"question-answering\", model=\"distilbert-base-uncased-distilled-squad\")\n",
    "\n",
    "# Use formatted text\n",
    "context = \"\"\n",
    "for _, row in final_df.iterrows():\n",
    "    context += f\"{row['Emp_name']} works in {row['Dept_Name']}. They have access to {', '.join(row['Access_Name'])}.\\n\"\n",
    "\n",
    "# Ask a question\n",
    "result = qa_model(question=\"What department does Amar Gupta belong to?\", context=context)\n",
    "print(result['answer'])"
   ]
  },
  {
   "cell_type": "code",
   "execution_count": null,
   "id": "ba2bd6b6",
   "metadata": {},
   "outputs": [],
   "source": []
  }
 ],
 "metadata": {
  "kernelspec": {
   "display_name": "Python 3",
   "language": "python",
   "name": "python3"
  },
  "language_info": {
   "codemirror_mode": {
    "name": "ipython",
    "version": 3
   },
   "file_extension": ".py",
   "mimetype": "text/x-python",
   "name": "python",
   "nbconvert_exporter": "python",
   "pygments_lexer": "ipython3",
   "version": "3.12.3"
  }
 },
 "nbformat": 4,
 "nbformat_minor": 5
}
